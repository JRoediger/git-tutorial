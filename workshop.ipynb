{
 "cells": [
  {
   "cell_type": "markdown",
   "metadata": {},
   "source": [
    "# File Versioning for Code with Git and GitHub\n",
    "\n",
    "Welcome to the workshop on \"File Versioning for Code with Git and GitHub\"! If you have managed to open this jupyter notebook inside your browser you have already learned how to: install and set up python, jupyter, git and gitkraken. Furthermore you have forked and cloned a repository and started jupyter successfully! Congratulations!\n",
    "\n",
    "Using this jupyter notebook we'll implement some scripts that manipulate .csv files and learn the git basics.\n",
    "\n",
    "Have fun :)!"
   ]
  },
  {
   "cell_type": "code",
   "execution_count": 13,
   "metadata": {},
   "outputs": [],
   "source": [
    "import csv\n",
    "\n",
    "def readCsvData(path):\n",
    "    data = []\n",
    "    with open(path, newline='') as csvFile:\n",
    "        csvReader = csv.reader(csvFile, delimiter=';', quotechar='|')\n",
    "        for line in csvReader:\n",
    "            data.append(line)\n",
    "    return data\n",
    "\n",
    "def writeCsvData(path, data):\n",
    "    with open(path, 'w', newline='') as csvFile:\n",
    "        csvWriter = csv.writer(csvFile, delimiter=';', quotechar='|', quoting=csv.QUOTE_MINIMAL)\n",
    "        for line in data:\n",
    "            csvWriter.writerow(line)"
   ]
  },
  {
   "cell_type": "code",
   "execution_count": 14,
   "metadata": {},
   "outputs": [
    {
     "name": "stdout",
     "output_type": "stream",
     "text": [
      "[['ï»¿846', '50'], ['869', '47'], ['892', '44'], ['915', '41'], ['938', '38'], ['961', '35'], ['984', '32'], ['1007', '29'], ['1030', '26'], ['1053', '23'], ['1076', '20'], ['1099', '17'], ['1122', '14'], ['1145', '11']]\n"
     ]
    }
   ],
   "source": [
    "csvData = readCsvData('raw-data2.csv');\n",
    "print(csvData)"
   ]
  },
  {
   "cell_type": "code",
   "execution_count": null,
   "metadata": {},
   "outputs": [],
   "source": [
    "def sum(a, b):\n",
    "    return a + b\n",
    "\n",
    "def sumLine(line):\n",
    "    firstValueOfLine = int(line[0])\n",
    "    secondValueOfLine = int(line[1])\n",
    "    return sum(firstValueOfLine, secondValueOfLine)"
   ]
  },
  {
   "cell_type": "code",
   "execution_count": null,
   "metadata": {},
   "outputs": [],
   "source": [
    "import copy\n",
    "\n",
    "csvDataWithSums = copy.deepcopy(csvData)\n",
    "\n",
    "for line in csvDataWithSums:\n",
    "    sumOfLine = sumLine(line)\n",
    "    line.append(sumOfLine)\n",
    "    \n",
    "print(csvDataWithSums)"
   ]
  },
  {
   "cell_type": "code",
   "execution_count": null,
   "metadata": {},
   "outputs": [],
   "source": [
    "def prod(a, b):\n",
    "    return a * b\n",
    "\n",
    "def prodLine(line):\n",
    "    firstValueOfLine = int(line[0])\n",
    "    secondValueOfLine = int(line[1])\n",
    "    return prod(firstValueOfLine, secondValueOfLine)"
   ]
  },
  {
   "cell_type": "code",
   "execution_count": null,
   "metadata": {},
   "outputs": [],
   "source": [
    "import copy\n",
    "\n",
    "csvDataWithSums = copy.deepcopy(csvData)\n",
    "\n",
    "for line in csvDataWithSums:\n",
    "    prodOfLine = prodLine(line)\n",
    "    line.append(sumOfLine)\n",
    "    \n",
    "print(csvDataWithSums)"
   ]
  },
  {
   "cell_type": "code",
   "execution_count": null,
   "metadata": {},
   "outputs": [],
   "source": [
    "def div(a, b):\n",
    "    return a / b\n",
    "\n",
    "def divLine(line):\n",
    "    firstValueOfLine = int(line[0])\n",
    "    secondValueOfLine = int(line[1])\n",
    "    return div(firstValueOfLine, secondValueOfLine)"
   ]
  },
  {
   "cell_type": "code",
   "execution_count": null,
   "metadata": {},
   "outputs": [],
   "source": [
    "import copy\n",
    "\n",
    "csvDataWithSums = copy.deepcopy(csvData)\n",
    "\n",
    "for line in csvDataWithSums:\n",
    "    divOfLine = divLine(line)\n",
    "    line.append(divOfLine)\n",
    "    \n",
    "print(csvDataWithSums)"
   ]
  },
  {
   "cell_type": "code",
   "execution_count": null,
   "metadata": {},
   "outputs": [],
   "source": [
    "def subt(a, b):\n",
    "    return a - b\n",
    "\n",
    "def subtLine(line):\n",
    "    firstValueOfLine = int(line[0])\n",
    "    secondValueOfLine = int(line[1])\n",
    "    return subt(firstValueOfLine, secondValueOfLine)"
   ]
  },
  {
   "cell_type": "code",
   "execution_count": 12,
   "metadata": {},
   "outputs": [
    {
     "ename": "NameError",
     "evalue": "name 'subtLine' is not defined",
     "output_type": "error",
     "traceback": [
      "\u001b[1;31m---------------------------------------------------------------------------\u001b[0m",
      "\u001b[1;31mNameError\u001b[0m                                 Traceback (most recent call last)",
      "\u001b[1;32m<ipython-input-12-9708d27b0b01>\u001b[0m in \u001b[0;36m<module>\u001b[1;34m\u001b[0m\n\u001b[0;32m      4\u001b[0m \u001b[1;33m\u001b[0m\u001b[0m\n\u001b[0;32m      5\u001b[0m \u001b[1;32mfor\u001b[0m \u001b[0mline\u001b[0m \u001b[1;32min\u001b[0m \u001b[0mcsvDataWithSums\u001b[0m\u001b[1;33m:\u001b[0m\u001b[1;33m\u001b[0m\u001b[1;33m\u001b[0m\u001b[0m\n\u001b[1;32m----> 6\u001b[1;33m     \u001b[0msubtOfLine\u001b[0m \u001b[1;33m=\u001b[0m \u001b[0msubtLine\u001b[0m\u001b[1;33m(\u001b[0m\u001b[0mline\u001b[0m\u001b[1;33m)\u001b[0m\u001b[1;33m\u001b[0m\u001b[1;33m\u001b[0m\u001b[0m\n\u001b[0m\u001b[0;32m      7\u001b[0m     \u001b[0mline\u001b[0m\u001b[1;33m.\u001b[0m\u001b[0mappend\u001b[0m\u001b[1;33m(\u001b[0m\u001b[0msubtOfLine\u001b[0m\u001b[1;33m)\u001b[0m\u001b[1;33m\u001b[0m\u001b[1;33m\u001b[0m\u001b[0m\n\u001b[0;32m      8\u001b[0m \u001b[1;33m\u001b[0m\u001b[0m\n",
      "\u001b[1;31mNameError\u001b[0m: name 'subtLine' is not defined"
     ]
    }
   ],
   "source": [
    "import copy\n",
    "\n",
    "csvDataWithSums = copy.deepcopy(csvData)\n",
    "\n",
    "for line in csvDataWithSums:\n",
    "    subtOfLine = subtLine(line)\n",
    "    line.append(subtOfLine)\n",
    "    \n",
    "print(csvDataWithSums)"
   ]
  },
  {
   "cell_type": "code",
   "execution_count": 11,
   "metadata": {},
   "outputs": [
    {
     "ename": "NameError",
     "evalue": "name 'csvDataWithSubts' is not defined",
     "output_type": "error",
     "traceback": [
      "\u001b[1;31m---------------------------------------------------------------------------\u001b[0m",
      "\u001b[1;31mNameError\u001b[0m                                 Traceback (most recent call last)",
      "\u001b[1;32m<ipython-input-11-b605c2ab9574>\u001b[0m in \u001b[0;36m<module>\u001b[1;34m\u001b[0m\n\u001b[1;32m----> 1\u001b[1;33m \u001b[0mwriteCsvData\u001b[0m\u001b[1;33m(\u001b[0m\u001b[1;34m'result-data.csv'\u001b[0m\u001b[1;33m,\u001b[0m \u001b[0mcsvDataWithSubts\u001b[0m\u001b[1;33m)\u001b[0m\u001b[1;33m\u001b[0m\u001b[1;33m\u001b[0m\u001b[0m\n\u001b[0m",
      "\u001b[1;31mNameError\u001b[0m: name 'csvDataWithSubts' is not defined"
     ]
    }
   ],
   "source": [
    "writeCsvData('result-data.csv', csvDataWithSums)"
   ]
  },
  {
   "cell_type": "code",
   "execution_count": null,
   "metadata": {},
   "outputs": [],
   "source": []
  }
 ],
 "metadata": {
  "kernelspec": {
   "display_name": "Python 3",
   "language": "python",
   "name": "python3"
  },
  "language_info": {
   "codemirror_mode": {
    "name": "ipython",
    "version": 3
   },
   "file_extension": ".py",
   "mimetype": "text/x-python",
   "name": "python",
   "nbconvert_exporter": "python",
   "pygments_lexer": "ipython3",
   "version": "3.9.0"
  }
 },
 "nbformat": 4,
 "nbformat_minor": 4
}
